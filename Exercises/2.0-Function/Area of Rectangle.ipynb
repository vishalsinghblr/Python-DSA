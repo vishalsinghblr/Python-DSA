{
 "cells": [
  {
   "cell_type": "markdown",
   "metadata": {},
   "source": [
    "### Area of a Rectangle\n",
    "\n",
    "Problem Description:\n",
    "\n",
    "You are given the length and breadth of a rectangle. Your task is to compute and return the area of the rectangle.\n",
    "\n",
    "Formula:\n",
    "\n",
    "    To calculate the area of a rectangle:\n",
    "\n",
    "    Area=length×breadth\n",
    "\n",
    "\n",
    "Input:\n",
    "\n",
    "    Two floating-point numbers, length and breadth, representing the dimensions of the rectangle.\n",
    "\n",
    "\n",
    "\n",
    "Output:\n",
    "\n",
    "    A floating-point number representing the area of the rectangle.\n",
    "\n",
    "\n",
    "Example:\n",
    "\n",
    "    Input: length = 5, breadth = 3\n",
    "    Output: 15.0\n",
    "    \n",
    "    Input: length = 7.5, breadth = 2.4\n",
    "    Output: 18.0"
   ]
  },
  {
   "cell_type": "code",
   "execution_count": 1,
   "metadata": {},
   "outputs": [],
   "source": [
    "def area_of_rectangle(length, breadth):\n",
    "    \"\"\"\n",
    "    Function to calculate the area of a rectangle.\n",
    "    \n",
    "    Parameters:\n",
    "    length (float): The length of the rectangle.\n",
    "    breadth (float): The breadth of the rectangle.\n",
    "    \n",
    "    Returns:\n",
    "    float: The area of the rectangle.\n",
    "    \"\"\"\n",
    "    # Multiply length by breadth to get the area of the rectangle\n",
    "    return length * breadth"
   ]
  },
  {
   "cell_type": "code",
   "execution_count": 3,
   "metadata": {},
   "outputs": [
    {
     "data": {
      "text/plain": [
       "20"
      ]
     },
     "execution_count": 3,
     "metadata": {},
     "output_type": "execute_result"
    }
   ],
   "source": [
    "area_of_rectangle(4,5)"
   ]
  },
  {
   "cell_type": "code",
   "execution_count": null,
   "metadata": {},
   "outputs": [],
   "source": []
  }
 ],
 "metadata": {
  "kernelspec": {
   "display_name": "myenv",
   "language": "python",
   "name": "python3"
  },
  "language_info": {
   "codemirror_mode": {
    "name": "ipython",
    "version": 3
   },
   "file_extension": ".py",
   "mimetype": "text/x-python",
   "name": "python",
   "nbconvert_exporter": "python",
   "pygments_lexer": "ipython3",
   "version": "3.10.9"
  }
 },
 "nbformat": 4,
 "nbformat_minor": 2
}
