{
 "cells": [
  {
   "cell_type": "markdown",
   "metadata": {},
   "source": [
    "#### Celsius to Fahrenheit\n",
    "\n",
    "Problem Description:\n",
    "\n",
    "You are given a temperature in Celsius. Your task is to convert it to Fahrenheit and return the result.\n",
    "\n",
    "Formula:\n",
    "\n",
    "    To convert Celsius to Fahrenheit, use the formula:\n",
    "\n",
    "    F = (9/5 * C) + 32\n",
    "\n",
    "    Where F is the temperature in Fahrenheit and C is the temperature in Celsius.\n",
    "\n",
    "\n",
    "Input:\n",
    "\n",
    "    A floating-point number C representing the temperature in Celsius.\n",
    "\n",
    "\n",
    "Output:\n",
    "\n",
    "    A floating-point number representing the temperature in Fahrenheit."
   ]
  },
  {
   "cell_type": "markdown",
   "metadata": {},
   "source": []
  }
 ],
 "metadata": {
  "language_info": {
   "name": "python"
  }
 },
 "nbformat": 4,
 "nbformat_minor": 2
}
