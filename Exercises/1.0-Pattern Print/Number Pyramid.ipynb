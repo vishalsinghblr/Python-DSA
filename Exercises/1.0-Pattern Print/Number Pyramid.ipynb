{
 "cells": [
  {
   "cell_type": "markdown",
   "metadata": {},
   "source": [
    "#### Number Pyramid Pattern\n",
    "\n",
    "Problem Description:\n",
    "\n",
    "You are given an integer n. Your task is to return a pyramid pattern of numbers, where each row contains increasing numbers starting from 1 up to the row number, and the pyramid is centered with leading spaces.\n",
    "\n",
    "Input:\n",
    "\n",
    "    A single integer n, where 1 <= n <= 100.\n",
    "\n",
    "\n",
    "Output:\n",
    "\n",
    "    A list of strings where each string represents a row in the pyramid pattern.\n",
    "\n",
    "\n",
    "Example:\n",
    "\n",
    "    Input: 4\n",
    "    Output: ['   1   ', '  1 2  ', ' 1 2 3 ', '1 2 3 4']\n",
    "    \n",
    "    Input: 3\n",
    "    Output: ['  1  ', ' 1 2 ', '1 2 3']"
   ]
  },
  {
   "cell_type": "code",
   "execution_count": 3,
   "metadata": {},
   "outputs": [],
   "source": [
    "def generate_number_pyramid(n):\n",
    "    \"\"\"\n",
    "    Function to return a pyramid pattern of numbers of height n as a list of strings.\n",
    "    \n",
    "    Parameters:\n",
    "    n (int): The height of the pyramid.\n",
    "    \n",
    "    Returns:\n",
    "    list: A list of strings where each string represents a row of the pyramid pattern.\n",
    "    \"\"\"\n",
    "    # Initialize an empty list to store the rows of the pyramid\n",
    "    pyramid = []\n",
    "    \n",
    "    # Loop through each row from 1 to n\n",
    "    for i in range(1, n + 1):\n",
    "        # Create leading spaces for centering the numbers\n",
    "        spaces = ' ' * (n - i)\n",
    "        # Create a string of numbers from 1 to i, joined by spaces\n",
    "        numbers = ' '.join(str(x) for x in range(1, i + 1))\n",
    "        # Add the row with spaces and numbers to the pyramid\n",
    "        pyramid.append(spaces + numbers + spaces)\n",
    "        \n",
    "    return pyramid"
   ]
  },
  {
   "cell_type": "code",
   "execution_count": 4,
   "metadata": {},
   "outputs": [
    {
     "data": {
      "text/plain": [
       "['    1    ', '   1 2   ', '  1 2 3  ', ' 1 2 3 4 ', '1 2 3 4 5']"
      ]
     },
     "execution_count": 4,
     "metadata": {},
     "output_type": "execute_result"
    }
   ],
   "source": [
    "generate_number_pyramid(5)"
   ]
  },
  {
   "cell_type": "code",
   "execution_count": null,
   "metadata": {},
   "outputs": [],
   "source": []
  }
 ],
 "metadata": {
  "kernelspec": {
   "display_name": "myenv",
   "language": "python",
   "name": "python3"
  },
  "language_info": {
   "codemirror_mode": {
    "name": "ipython",
    "version": 3
   },
   "file_extension": ".py",
   "mimetype": "text/x-python",
   "name": "python",
   "nbconvert_exporter": "python",
   "pygments_lexer": "ipython3",
   "version": "3.10.9"
  }
 },
 "nbformat": 4,
 "nbformat_minor": 2
}
