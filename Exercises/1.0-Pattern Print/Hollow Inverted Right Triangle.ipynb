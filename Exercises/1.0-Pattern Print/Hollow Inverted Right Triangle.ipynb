{
 "cells": [
  {
   "cell_type": "markdown",
   "metadata": {},
   "source": [
    "#### Hollow Inverted Right Triangle\n",
    "Problem Description:\n",
    "\n",
    "You are given an integer n. Your task is to return a hollow inverted right-angled triangle pattern of '*', where the first row contains n stars, while the inner rows contain a star at the beginning and end, with spaces in between. The triangle should be left-aligned.\n",
    "\n",
    "\n",
    "Input:\n",
    "\n",
    "    A single integer n, where 1 <= n <= 100.\n",
    "\n",
    "\n",
    "Output:\n",
    "\n",
    "    A list of strings where each string represents a row in the hollow inverted right-angled triangle.\n",
    "\n",
    "\n",
    "Example:\n",
    "\n",
    "    Input: 4\n",
    "    Output: ['****', '* *', '**', '*']\n",
    "    \n",
    "    Input: 5\n",
    "    Output: ['*****', '*  *', '* *', '**', '*']\n"
   ]
  },
  {
   "cell_type": "code",
   "execution_count": 1,
   "metadata": {},
   "outputs": [],
   "source": [
    "def generate_hollow_inverted_right_angled_triangle(n):\n",
    "    \"\"\"\n",
    "    Function to return a hollow inverted right-angled triangle of '*' of side n as a list of strings.\n",
    "    \n",
    "    Parameters:\n",
    "    n (int): The height of the triangle.\n",
    "    \n",
    "    Returns:\n",
    "    list: A list of strings where each string represents a row of the hollow triangle.\n",
    "    \"\"\"\n",
    "    # Initialize an empty list to store the rows of the triangle\n",
    "    triangle = []\n",
    "    \n",
    "    # Loop through each row from n to 1\n",
    "    for i in range(n, 0, -1):\n",
    "        # For the first row, just add 'n' stars\n",
    "        if i == n:\n",
    "            triangle.append('*' * n)\n",
    "        # For the last row, add a single star\n",
    "        elif i == 1:\n",
    "            triangle.append('*')\n",
    "        # For the intermediate rows, add a star, spaces, and another star\n",
    "        else:\n",
    "            # Add a star, spaces, and another star\n",
    "            spaces = ' ' * (i - 2)\n",
    "            triangle.append('*' + spaces + '*')\n",
    "    \n",
    "    # Return the list of triangle rows\n",
    "    return triangle"
   ]
  },
  {
   "cell_type": "code",
   "execution_count": 2,
   "metadata": {},
   "outputs": [
    {
     "data": {
      "text/plain": [
       "['*****', '*  *', '* *', '**', '*']"
      ]
     },
     "execution_count": 2,
     "metadata": {},
     "output_type": "execute_result"
    }
   ],
   "source": [
    "generate_hollow_inverted_right_angled_triangle(5)"
   ]
  },
  {
   "cell_type": "code",
   "execution_count": null,
   "metadata": {},
   "outputs": [],
   "source": []
  }
 ],
 "metadata": {
  "kernelspec": {
   "display_name": "myenv",
   "language": "python",
   "name": "python3"
  },
  "language_info": {
   "codemirror_mode": {
    "name": "ipython",
    "version": 3
   },
   "file_extension": ".py",
   "mimetype": "text/x-python",
   "name": "python",
   "nbconvert_exporter": "python",
   "pygments_lexer": "ipython3",
   "version": "3.10.9"
  }
 },
 "nbformat": 4,
 "nbformat_minor": 2
}
