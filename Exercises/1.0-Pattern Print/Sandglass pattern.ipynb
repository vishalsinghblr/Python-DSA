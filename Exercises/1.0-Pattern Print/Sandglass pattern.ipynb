{
 "cells": [
  {
   "cell_type": "markdown",
   "metadata": {},
   "source": [
    "#### Sandglass Pattern\n",
    "Problem Description:\n",
    "\n",
    "You are given an integer n. Your task is to return a sandglass pattern of '*', where the first row contains 2n - 1 stars and each subsequent row decreases the number of stars by 2, until the last row contains a single star. After reaching the smallest width, the pattern then continues with the same number of stars increasing back to 2n - 1. The stars in each row should be centered.\n",
    "\n",
    "\n",
    "Input:\n",
    "\n",
    "    A single integer n, where 1 <= n <= 100.\n",
    "\n",
    "Output:\n",
    "\n",
    "    A list of strings where each string represents a row in the sandglass pattern.\n",
    "\n",
    "\n",
    "\n",
    "Example:\n",
    "\n",
    "    Input: 3\n",
    "    Output: ['*****', ' *** ', '  *  ', ' *** ', '*****']\n",
    "    \n",
    "    Input: 4\n",
    "    Output: ['*******', ' ***** ', '  ***  ', '   *   ', '  ***  ', ' ***** ', '*******']"
   ]
  },
  {
   "cell_type": "code",
   "execution_count": 1,
   "metadata": {},
   "outputs": [],
   "source": [
    "def generate_sandglass(n):\n",
    "    \"\"\"\n",
    "    Function to return a sandglass pattern of '*' of side n as a list of strings.\n",
    "    \n",
    "    Parameters:\n",
    "    n (int): The height of the sandglass.\n",
    "    \n",
    "    Returns:\n",
    "    list: A list of strings where each string represents a row of the sandglass pattern.\n",
    "    \"\"\"\n",
    "    # Initialize an empty list to store the rows of the sandglass\n",
    "    sandglass = []\n",
    "    \n",
    "    # Create the upper half of the sandglass (including the narrowest row)\n",
    "    for i in range(n):\n",
    "        # Calculate the number of stars: 2 * (n - i) - 1\n",
    "        stars = '*' * (2 * (n - i) - 1)\n",
    "        # Calculate the number of leading spaces to center the stars\n",
    "        spaces = ' ' * i\n",
    "        # Add the centered row to the list\n",
    "        sandglass.append(spaces + stars + spaces)\n",
    "    \n",
    "    # Create the lower half of the sandglass (excluding the narrowest row)\n",
    "    for i in range(n - 1):\n",
    "        # Calculate the number of stars: 2 * (i + 1) + 1\n",
    "        stars = '*' * (2 * (i + 1) + 1)\n",
    "        # Calculate the number of leading spaces for the lower half\n",
    "        spaces = ' ' * (n - i - 2)\n",
    "        # Add the centered row to the list, ensuring proper spacing\n",
    "        sandglass.append(spaces + stars + spaces)\n",
    "    \n",
    "    # Return the list of sandglass rows\n",
    "    return sandglass"
   ]
  },
  {
   "cell_type": "code",
   "execution_count": 2,
   "metadata": {},
   "outputs": [
    {
     "data": {
      "text/plain": [
       "['*********',\n",
       " ' ******* ',\n",
       " '  *****  ',\n",
       " '   ***   ',\n",
       " '    *    ',\n",
       " '   ***   ',\n",
       " '  *****  ',\n",
       " ' ******* ',\n",
       " '*********']"
      ]
     },
     "execution_count": 2,
     "metadata": {},
     "output_type": "execute_result"
    }
   ],
   "source": [
    "generate_sandglass(5)"
   ]
  }
 ],
 "metadata": {
  "kernelspec": {
   "display_name": "myenv",
   "language": "python",
   "name": "python3"
  },
  "language_info": {
   "codemirror_mode": {
    "name": "ipython",
    "version": 3
   },
   "file_extension": ".py",
   "mimetype": "text/x-python",
   "name": "python",
   "nbconvert_exporter": "python",
   "pygments_lexer": "ipython3",
   "version": "3.10.9"
  }
 },
 "nbformat": 4,
 "nbformat_minor": 2
}
