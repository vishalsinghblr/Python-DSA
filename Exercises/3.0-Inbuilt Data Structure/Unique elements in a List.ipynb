{
 "cells": [
  {
   "cell_type": "markdown",
   "metadata": {},
   "source": [
    "\n",
    "#### Check if all elements in a list are Unique\n",
    "\n",
    "Problem Description\n",
    "\n",
    "You are given a list of integers. Write a Python program that checks if all elements in the list are unique. If all elements are unique, return True; otherwise, return False.\n",
    "\n",
    "Parameters:\n",
    "\n",
    "    lst (List of integers): The list of integers to check for uniqueness.\n",
    "\n",
    "Returns:\n",
    "\n",
    "    A boolean value True if all elements in the list are unique, False otherwise.\n",
    "\n",
    "Example:\n",
    "\n",
    "    Input: lst = [1, 2, 3, 4, 5]\n",
    "    Output: True\n",
    "\n",
    "    Input: lst = [1, 2, 3, 3, 4, 5]\n",
    "    Output: False"
   ]
  },
  {
   "cell_type": "code",
   "execution_count": 3,
   "metadata": {},
   "outputs": [],
   "source": [
    "def check_unique(lst):\n",
    "    # Initialize an empty set to keep track of seen elements\n",
    "    seen = set()\n",
    "    \n",
    "    # Iterate through each element in the input list\n",
    "    for num in lst:\n",
    "        # If the element has been seen before, return False\n",
    "        if num in seen:\n",
    "            return False\n",
    "        # Add the element to the seen set\n",
    "        seen.add(num)\n",
    "    \n",
    "    # If no duplicates are found, return True\n",
    "    return True"
   ]
  },
  {
   "cell_type": "code",
   "execution_count": 4,
   "metadata": {},
   "outputs": [
    {
     "data": {
      "text/plain": [
       "False"
      ]
     },
     "execution_count": 4,
     "metadata": {},
     "output_type": "execute_result"
    }
   ],
   "source": [
    "check_unique([1,2,3,3,4,5])"
   ]
  }
 ],
 "metadata": {
  "kernelspec": {
   "display_name": "myenv",
   "language": "python",
   "name": "python3"
  },
  "language_info": {
   "codemirror_mode": {
    "name": "ipython",
    "version": 3
   },
   "file_extension": ".py",
   "mimetype": "text/x-python",
   "name": "python",
   "nbconvert_exporter": "python",
   "pygments_lexer": "ipython3",
   "version": "3.10.9"
  }
 },
 "nbformat": 4,
 "nbformat_minor": 2
}
