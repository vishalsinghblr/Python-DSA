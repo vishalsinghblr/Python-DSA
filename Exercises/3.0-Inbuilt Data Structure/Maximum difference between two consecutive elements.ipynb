{
 "cells": [
  {
   "cell_type": "markdown",
   "metadata": {},
   "source": [
    "#### Maximum difference between two consecutive elements in a list.\n",
    "\n",
    "Find Maximum Difference Between Two Consecutive Elements (Brute Force Approach)\n",
    "\n",
    "You are given a list of integers. Write a Python program to find the maximum difference between two consecutive elements in the list using a brute-force approach. The difference is defined as the absolute value of the difference between two consecutive elements.\n",
    "\n",
    "Parameters:\n",
    "\n",
    "    lst (List of integers): A list of integers.\n",
    "\n",
    "Returns:\n",
    "\n",
    "    An integer representing the maximum difference between two consecutive elements.\n",
    "\n",
    "Example:\n",
    "\n",
    "    Input: lst = [1, 7, 3, 10, 5]\n",
    "    Output: 7\n",
    "\n",
    "        The maximum difference is between 3 and 10 (i.e., |3 - 10| = 7).\n",
    "\n",
    "    Input: lst = [10, 11, 15, 3]\n",
    "    Output: 12\n",
    "\n",
    "        The maximum difference is between 15 and 3 (i.e., |15 - 3| = 12)."
   ]
  },
  {
   "cell_type": "code",
   "execution_count": 2,
   "metadata": {},
   "outputs": [],
   "source": [
    "def max_consecutive_difference(lst):\n",
    "    # Edge case: if the list is empty or has only one element, return 0\n",
    "    if len(lst) < 2:\n",
    "        return 0\n",
    "    \n",
    "    max_diff = 0  # Initialize max difference as 0\n",
    "    \n",
    "    # Iterate through the list to calculate consecutive differences\n",
    "    for i in range(1, len(lst)):\n",
    "        current_diff = abs(lst[i] - lst[i - 1])  # Calculate absolute difference\n",
    "        if current_diff > max_diff:  # Update max_diff if current_diff is greater\n",
    "            max_diff = current_diff\n",
    "    \n",
    "    return max_diff  # Return the maximum difference"
   ]
  },
  {
   "cell_type": "code",
   "execution_count": 3,
   "metadata": {},
   "outputs": [
    {
     "data": {
      "text/plain": [
       "11"
      ]
     },
     "execution_count": 3,
     "metadata": {},
     "output_type": "execute_result"
    }
   ],
   "source": [
    "max_consecutive_difference([10,-1,2,9,11])"
   ]
  }
 ],
 "metadata": {
  "kernelspec": {
   "display_name": "myenv",
   "language": "python",
   "name": "python3"
  },
  "language_info": {
   "codemirror_mode": {
    "name": "ipython",
    "version": 3
   },
   "file_extension": ".py",
   "mimetype": "text/x-python",
   "name": "python",
   "nbconvert_exporter": "python",
   "pygments_lexer": "ipython3",
   "version": "3.10.9"
  }
 },
 "nbformat": 4,
 "nbformat_minor": 2
}
