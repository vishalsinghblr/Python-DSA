{
 "cells": [
  {
   "cell_type": "markdown",
   "metadata": {},
   "source": [
    "#### Rotate a List\n",
    "Rotate a List (Without Slicing)\n",
    "\n",
    "You are given a list of integers and an integer k. Write a Python function to rotate the list to the right by k positions without using slicing. A rotation shifts elements from the end of the list to the front.\n",
    "\n",
    "Parameters:\n",
    "\n",
    "    lst (List of integers): The list to be rotated.\n",
    "\n",
    "    k (Integer): The number of positions to rotate the list.\n",
    "\n",
    "Returns:\n",
    "\n",
    "    A list of integers rotated by k positions.\n",
    "\n",
    "Example:\n",
    "\n",
    "    Input: lst = [1, 2, 3, 4, 5], k = 2\n",
    "    Output: [4, 5, 1, 2, 3]\n",
    "\n",
    "    Input: lst = [10, 20, 30, 40, 50], k = 3\n",
    "    Output: [30, 40, 50, 10, 20]"
   ]
  },
  {
   "cell_type": "code",
   "execution_count": 1,
   "metadata": {},
   "outputs": [],
   "source": [
    "\n",
    "def rotate_list(lst, k):\n",
    "    # Handling the case where the list is empty\n",
    "    if not lst:\n",
    "        return []\n",
    "    \n",
    "    # Modulo to handle the case where k is greater than the length of the list\n",
    "    k = k % len(lst)\n",
    "    \n",
    "    # Brute force approach using loops\n",
    "    for _ in range(k):\n",
    "        last_element = lst.pop()  # Remove the last element\n",
    "        lst.insert(0, last_element)  # Insert it at the front\n",
    "    \n",
    "    return lst"
   ]
  },
  {
   "cell_type": "code",
   "execution_count": 2,
   "metadata": {},
   "outputs": [
    {
     "data": {
      "text/plain": [
       "[9, 7, 2, 3]"
      ]
     },
     "execution_count": 2,
     "metadata": {},
     "output_type": "execute_result"
    }
   ],
   "source": [
    "rotate_list([2,3,9,7], 2)"
   ]
  }
 ],
 "metadata": {
  "kernelspec": {
   "display_name": "myenv",
   "language": "python",
   "name": "python3"
  },
  "language_info": {
   "codemirror_mode": {
    "name": "ipython",
    "version": 3
   },
   "file_extension": ".py",
   "mimetype": "text/x-python",
   "name": "python",
   "nbconvert_exporter": "python",
   "pygments_lexer": "ipython3",
   "version": "3.10.9"
  }
 },
 "nbformat": 4,
 "nbformat_minor": 2
}
