{
 "cells": [
  {
   "cell_type": "markdown",
   "metadata": {},
   "source": [
    "#### Largest Element in a List\n",
    "\n",
    "Find the Largest Element in a List\n",
    "\n",
    "Write a Python function that finds and returns the largest element in a given list of integers.\n",
    "\n",
    "Parameters:\n",
    "\n",
    "    numbers (List of integers): The input list containing integers.\n",
    "\n",
    "Returns:\n",
    "\n",
    "    An integer representing the largest element in the input list.\n",
    "\n",
    "Example:\n",
    "\n",
    "    Input: numbers = [3, 8, 2, 10, 5]\n",
    "    Output: 10\n",
    "\n",
    "    Input: numbers = [-5, -10, -2, -1, -7]\n",
    "    Output: -1"
   ]
  },
  {
   "cell_type": "code",
   "execution_count": 1,
   "metadata": {},
   "outputs": [],
   "source": [
    "def find_largest(numbers):\n",
    "    # Check if the list is empty\n",
    "    if not numbers:\n",
    "        return None  # or raise an exception, depending on requirements\n",
    " \n",
    "    # Initialize the largest number as the first element\n",
    "    largest = numbers[0]\n",
    "    \n",
    "    # Iterate through the list starting from the second element\n",
    "    for num in numbers[1:]:\n",
    "        # If we find a number larger than our current largest, update largest\n",
    "        if num > largest:\n",
    "            largest = num\n",
    "    \n",
    "    # Return the largest number found\n",
    "    return largest"
   ]
  },
  {
   "cell_type": "code",
   "execution_count": 3,
   "metadata": {},
   "outputs": [
    {
     "data": {
      "text/plain": [
       "9"
      ]
     },
     "execution_count": 3,
     "metadata": {},
     "output_type": "execute_result"
    }
   ],
   "source": [
    "find_largest([-1,1,2,4,9])"
   ]
  }
 ],
 "metadata": {
  "kernelspec": {
   "display_name": "myenv",
   "language": "python",
   "name": "python3"
  },
  "language_info": {
   "codemirror_mode": {
    "name": "ipython",
    "version": 3
   },
   "file_extension": ".py",
   "mimetype": "text/x-python",
   "name": "python",
   "nbconvert_exporter": "python",
   "pygments_lexer": "ipython3",
   "version": "3.10.9"
  }
 },
 "nbformat": 4,
 "nbformat_minor": 2
}
