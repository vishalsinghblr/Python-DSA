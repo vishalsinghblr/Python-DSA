{
 "cells": [
  {
   "cell_type": "markdown",
   "metadata": {},
   "source": [
    "#### Count Number of Odd and Even Elements in a List\n",
    "\n",
    "Count Even and Odd Numbers in a List\n",
    "\n",
    "You are given a list of integers. Write a Python program that counts and returns the number of even and odd numbers in the list.\n",
    "\n",
    "Parameters:\n",
    "\n",
    "    lst (List of integers): The list of integers where you will count the even and odd numbers.\n",
    "\n",
    "Returns:\n",
    "\n",
    "    A tuple (even_count, odd_count) where even_count is the number of even numbers and odd_count is the number of odd numbers.\n",
    "\n",
    "Example:\n",
    "\n",
    "    Input: lst = [1, 2, 3, 4, 5]\n",
    "    Output: (2, 3)\n",
    "\n",
    "        There are 2 even numbers: 2, 4\n",
    "\n",
    "        There are 3 odd numbers: 1, 3, 5"
   ]
  },
  {
   "cell_type": "code",
   "execution_count": 1,
   "metadata": {},
   "outputs": [],
   "source": [
    "def count_even_odd(lst):\n",
    "    # Initialize counters for even and odd numbers\n",
    "    even_count = 0\n",
    "    odd_count = 0\n",
    "    \n",
    "    # Iterate through each number in the list\n",
    "    for num in lst:\n",
    "        if num % 2 == 0:  # Check if the number is even\n",
    "            even_count += 1\n",
    "        else:  # Otherwise, it's odd\n",
    "            odd_count += 1\n",
    "    \n",
    "    # Return a tuple containing the counts of even and odd numbers\n",
    "    return even_count, odd_count"
   ]
  },
  {
   "cell_type": "code",
   "execution_count": 2,
   "metadata": {},
   "outputs": [
    {
     "data": {
      "text/plain": [
       "(1, 4)"
      ]
     },
     "execution_count": 2,
     "metadata": {},
     "output_type": "execute_result"
    }
   ],
   "source": [
    "count_even_odd([2,3,1,5,7])"
   ]
  }
 ],
 "metadata": {
  "kernelspec": {
   "display_name": "myenv",
   "language": "python",
   "name": "python3"
  },
  "language_info": {
   "codemirror_mode": {
    "name": "ipython",
    "version": 3
   },
   "file_extension": ".py",
   "mimetype": "text/x-python",
   "name": "python",
   "nbconvert_exporter": "python",
   "pygments_lexer": "ipython3",
   "version": "3.10.9"
  }
 },
 "nbformat": 4,
 "nbformat_minor": 2
}
