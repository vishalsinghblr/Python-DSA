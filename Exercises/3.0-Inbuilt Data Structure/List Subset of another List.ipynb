{
 "cells": [
  {
   "cell_type": "markdown",
   "metadata": {},
   "source": [
    "#### Check if List is Subset of another List\n",
    "\n",
    "Check if a List is a Subset of Another List (Brute Force Approach)\n",
    "\n",
    "You are given two lists of integers. Write a Python program that checks whether the first list is a subset of the second list using a brute-force approach, without using the in keyword. A list is considered a subset if all elements of the first list are present in the second list.\n",
    "\n",
    "Parameters:\n",
    "\n",
    "    lst1 (List of integers): The first list, which is being checked as a subset.\n",
    "\n",
    "    lst2 (List of integers): The second list, which is the list to compare against.\n",
    "\n",
    "Returns:\n",
    "\n",
    "    A boolean value True if lst1 is a subset of lst2, otherwise False.\n",
    "\n",
    "Example:\n",
    "\n",
    "    Input: lst1 = [1, 2, 3], lst2 = [1, 2, 3, 4, 5]\n",
    "    Output: True\n",
    "\n",
    "        All elements in lst1 are present in lst2.\n",
    "\n",
    "    Input: lst1 = [1, 6], lst2 = [1, 2, 3, 4, 5]\n",
    "    Output: False\n",
    "\n",
    "    The element 6 is not present in lst2."
   ]
  },
  {
   "cell_type": "code",
   "execution_count": 1,
   "metadata": {},
   "outputs": [],
   "source": [
    "def is_subset(lst1, lst2):\n",
    "    # Iterate through each element of lst1\n",
    "    for element in lst1:\n",
    "        found = False  # Flag to check if element is found in lst2\n",
    "        # Check each element of lst2\n",
    "        for item in lst2:\n",
    "            if item == element:  # Compare each element\n",
    "                found = True\n",
    "                break\n",
    "        if not found:  # If any element from lst1 is not found in lst2, return False\n",
    "            return False\n",
    "    return True  # If all elements in lst1 are found, return True"
   ]
  },
  {
   "cell_type": "code",
   "execution_count": 2,
   "metadata": {},
   "outputs": [
    {
     "data": {
      "text/plain": [
       "False"
      ]
     },
     "execution_count": 2,
     "metadata": {},
     "output_type": "execute_result"
    }
   ],
   "source": [
    "is_subset([1,2,3,4,5], [2,3,4])"
   ]
  }
 ],
 "metadata": {
  "kernelspec": {
   "display_name": "myenv",
   "language": "python",
   "name": "python3"
  },
  "language_info": {
   "codemirror_mode": {
    "name": "ipython",
    "version": 3
   },
   "file_extension": ".py",
   "mimetype": "text/x-python",
   "name": "python",
   "nbconvert_exporter": "python",
   "pygments_lexer": "ipython3",
   "version": "3.10.9"
  }
 },
 "nbformat": 4,
 "nbformat_minor": 2
}
