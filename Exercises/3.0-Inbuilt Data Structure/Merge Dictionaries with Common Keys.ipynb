{
 "cells": [
  {
   "cell_type": "markdown",
   "metadata": {},
   "source": [
    "#### Merge Dictionaries with Common Keys\n",
    "\n",
    "Problem Description\n",
    "\n",
    "Merge Dictionaries with Overlapping Keys\n",
    "\n",
    "Design a Python function named merge_dicts_with_overlapping_keys that merges multiple dictionaries into a single dictionary. If a key appears in more than one dictionary, sum up their values.\n",
    "\n",
    "Parameters:\n",
    "\n",
    "    dicts (list): A list of dictionaries where keys might overlap.\n",
    "\n",
    "Returns:\n",
    "\n",
    "    A single dictionary where values for overlapping keys are summed.\n",
    "\n",
    "Example:\n",
    "\n",
    "    Input: [{'a': 1, 'b': 2}, {'b': 3, 'c': 4}, {'c': 5, 'd': 6}]\n",
    "    Output: {'a': 1, 'b': 5, 'c': 9, 'd': 6}\n",
    "\n",
    "    Input: [{'x': 10, 'y': 20}, {'y': 30, 'z': 40}, {'z': 50, 'x': 60}]\n",
    "    Output: {'x': 70, 'y': 50, 'z': 90}"
   ]
  },
  {
   "cell_type": "code",
   "execution_count": 1,
   "metadata": {},
   "outputs": [],
   "source": [
    "def merge_dicts_with_overlapping_keys(dicts):\n",
    "    # Initialize an empty dictionary to store the result\n",
    "    result = {}\n",
    "    \n",
    "    # Loop through each dictionary in the list\n",
    "    for d in dicts:\n",
    "        # Loop through each key-value pair in the current dictionary\n",
    "        for key, value in d.items():\n",
    "            # If the key is already in the result dictionary, add the new value to the existing value\n",
    "            if key in result:\n",
    "                result[key] += value\n",
    "            # Otherwise, add the key-value pair to the result dictionary\n",
    "            else:\n",
    "                result[key] = value\n",
    "    \n",
    "    return result"
   ]
  },
  {
   "cell_type": "code",
   "execution_count": 2,
   "metadata": {},
   "outputs": [
    {
     "data": {
      "text/plain": [
       "{'a': 1, 'b': 5, 'c': 9, 'd': 6}"
      ]
     },
     "execution_count": 2,
     "metadata": {},
     "output_type": "execute_result"
    }
   ],
   "source": [
    "merge_dicts_with_overlapping_keys([{'a': 1, 'b': 2}, {'b': 3, 'c': 4}, {'c': 5, 'd': 6}])"
   ]
  }
 ],
 "metadata": {
  "kernelspec": {
   "display_name": "myenv",
   "language": "python",
   "name": "python3"
  },
  "language_info": {
   "codemirror_mode": {
    "name": "ipython",
    "version": 3
   },
   "file_extension": ".py",
   "mimetype": "text/x-python",
   "name": "python",
   "nbconvert_exporter": "python",
   "pygments_lexer": "ipython3",
   "version": "3.10.9"
  }
 },
 "nbformat": 4,
 "nbformat_minor": 2
}
