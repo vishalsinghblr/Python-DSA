{
 "cells": [
  {
   "cell_type": "markdown",
   "metadata": {},
   "source": [
    "#### Program to Reverse a List\n",
    "\n",
    "Reverse a List (Non-Slicing Approach)\n",
    "\n",
    "You are given a list of integers. Write a Python program that reverses the list without using slicing (lst[::-1]). The program should return the reversed list.\n",
    "\n",
    "Parameters:\n",
    "\n",
    "    lst (List of integers): The list of integers to be reversed.\n",
    "\n",
    "Returns:\n",
    "\n",
    "    A list of integers where the order of elements is reversed from the input list.\n",
    "\n",
    "Example:\n",
    "\n",
    "    Input: lst = [1, 2, 3, 4, 5]\n",
    "    Output: [5, 4, 3, 2, 1]"
   ]
  },
  {
   "cell_type": "code",
   "execution_count": 1,
   "metadata": {},
   "outputs": [],
   "source": [
    "def reverse_list(lst):\n",
    "    # Initialize two pointers: one at the beginning, one at the end\n",
    "    start = 0\n",
    "    end = len(lst) - 1\n",
    "    \n",
    "    # Swap elements until the two pointers meet in the middle\n",
    "    while start < end:\n",
    "        # Swap the elements at the start and end pointers\n",
    "        lst[start], lst[end] = lst[end], lst[start]\n",
    "        # Move the pointers towards the middle\n",
    "        start += 1\n",
    "        end -= 1\n",
    "    \n",
    "    # Return the reversed list\n",
    "    return lst"
   ]
  },
  {
   "cell_type": "code",
   "execution_count": 2,
   "metadata": {},
   "outputs": [
    {
     "data": {
      "text/plain": [
       "[5, 4, 3, 2, 1]"
      ]
     },
     "execution_count": 2,
     "metadata": {},
     "output_type": "execute_result"
    }
   ],
   "source": [
    "reverse_list([1,2,3,4,5])"
   ]
  }
 ],
 "metadata": {
  "kernelspec": {
   "display_name": "myenv",
   "language": "python",
   "name": "python3"
  },
  "language_info": {
   "codemirror_mode": {
    "name": "ipython",
    "version": 3
   },
   "file_extension": ".py",
   "mimetype": "text/x-python",
   "name": "python",
   "nbconvert_exporter": "python",
   "pygments_lexer": "ipython3",
   "version": "3.10.9"
  }
 },
 "nbformat": 4,
 "nbformat_minor": 2
}
