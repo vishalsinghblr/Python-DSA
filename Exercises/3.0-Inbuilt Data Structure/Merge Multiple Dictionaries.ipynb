{
 "cells": [
  {
   "cell_type": "markdown",
   "metadata": {},
   "source": [
    "### Merge Multiple Dictionaries\n",
    "\n",
    "Merge Three Dictionaries\n",
    "\n",
    "Design a Python function named merge_three_dictionaries to merge exactly three dictionaries into one.\n",
    "\n",
    "Parameters:\n",
    "\n",
    "    dict1 (Dictionary): The first dictionary to be merged.\n",
    "\n",
    "    dict2 (Dictionary): The second dictionary to be merged.\n",
    "\n",
    "    dict3 (Dictionary): The third dictionary to be merged.\n",
    "\n",
    "Returns:\n",
    "\n",
    "    A single dictionary containing all key-value pairs from the three input dictionaries.\n",
    "\n",
    "Example:\n",
    "\n",
    "    Input: ({'a': 1, 'b': 2}, {'c': 3, 'd': 4}, {'e': 5, 'f': 6})\n",
    "    Output: {'a': 1, 'b': 2, 'c': 3, 'd': 4, 'e': 5, 'f': 6}\n",
    "\n",
    "    Input: ({'x': 10, 'y': 20}, {'z': 30}, {'a': 40, 'b': 50})\n",
    "    Output: {'x': 10, 'y': 20, 'z': 30, 'a': 40, 'b': 50}"
   ]
  },
  {
   "cell_type": "code",
   "execution_count": 1,
   "metadata": {},
   "outputs": [],
   "source": [
    "def merge_three_dictionaries(dict1, dict2, dict3):\n",
    "    # Create a new dictionary that starts with the content of dict1\n",
    "    merged_dict = dict1.copy()\n",
    "    \n",
    "    # Add the key-value pairs from dict2\n",
    "    for key, value in dict2.items():\n",
    "        merged_dict[key] = value\n",
    "    \n",
    "    # Add the key-value pairs from dict3\n",
    "    for key, value in dict3.items():\n",
    "        merged_dict[key] = value\n",
    "    \n",
    "    return merged_dict"
   ]
  },
  {
   "cell_type": "code",
   "execution_count": 2,
   "metadata": {},
   "outputs": [
    {
     "data": {
      "text/plain": [
       "{'a': 1, 'b': 2, 'c': 7}"
      ]
     },
     "execution_count": 2,
     "metadata": {},
     "output_type": "execute_result"
    }
   ],
   "source": [
    "merge_three_dictionaries({'a':1,'b':2}, {'c':1}, {'c':7})"
   ]
  }
 ],
 "metadata": {
  "kernelspec": {
   "display_name": "myenv",
   "language": "python",
   "name": "python3"
  },
  "language_info": {
   "codemirror_mode": {
    "name": "ipython",
    "version": 3
   },
   "file_extension": ".py",
   "mimetype": "text/x-python",
   "name": "python",
   "nbconvert_exporter": "python",
   "pygments_lexer": "ipython3",
   "version": "3.10.9"
  }
 },
 "nbformat": 4,
 "nbformat_minor": 2
}
