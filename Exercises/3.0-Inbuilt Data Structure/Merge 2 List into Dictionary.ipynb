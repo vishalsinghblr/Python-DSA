{
 "cells": [
  {
   "cell_type": "markdown",
   "metadata": {},
   "source": [
    "#### Merge 2 List into Dictionary\n",
    "\n",
    "Merge Lists to Dictionary\n",
    "\n",
    "Design a Python function named merge_lists_to_dictionary to merge two lists into a dictionary where elements from the first list act as keys and elements from the second list act as values.\n",
    "\n",
    "Parameters:\n",
    "\n",
    "    keys (List): A list of keys.\n",
    "\n",
    "    values (List): A list of values.\n",
    "\n",
    "Returns:\n",
    "\n",
    "    A dictionary containing merged key-value pairs.\n",
    "\n",
    "Example:\n",
    "\n",
    "    Input: keys = ['a', 'b', 'c'], values = [1, 2, 3]\n",
    "    Output: {'a': 1, 'b': 2, 'c': 3}\n",
    "\n",
    "    Input: keys = ['x', 'y', 'z'], values = [10, 20, 30]\n",
    "    Output: {'x': 10, 'y': 20, 'z': 30}"
   ]
  },
  {
   "cell_type": "code",
   "execution_count": 1,
   "metadata": {},
   "outputs": [],
   "source": [
    "\n",
    "def merge_lists_to_dictionary(keys, values):\n",
    "    # Boundary Condition to check for equal length of keys and values.\n",
    "    # Last point in problem solving framework :)\n",
    "    if(len(keys) != len(values)):\n",
    "        return False\n",
    "    # Create an empty dictionary to store the result\n",
    "    result = {}\n",
    " \n",
    "    # Use a loop to iterate through both lists\n",
    "    for i in range(len(keys)):\n",
    "        # Add each key-value pair to the dictionary\n",
    "        result[keys[i]] = values[i]\n",
    " \n",
    "    return result"
   ]
  },
  {
   "cell_type": "code",
   "execution_count": 2,
   "metadata": {},
   "outputs": [
    {
     "data": {
      "text/plain": [
       "{1: 4, 2: 5, 3: 6}"
      ]
     },
     "execution_count": 2,
     "metadata": {},
     "output_type": "execute_result"
    }
   ],
   "source": [
    "merge_lists_to_dictionary([1,2,3],[4,5,6])"
   ]
  },
  {
   "cell_type": "code",
   "execution_count": 3,
   "metadata": {},
   "outputs": [
    {
     "data": {
      "text/plain": [
       "False"
      ]
     },
     "execution_count": 3,
     "metadata": {},
     "output_type": "execute_result"
    }
   ],
   "source": [
    "merge_lists_to_dictionary([1,2],[3,4,5])"
   ]
  }
 ],
 "metadata": {
  "kernelspec": {
   "display_name": "myenv",
   "language": "python",
   "name": "python3"
  },
  "language_info": {
   "codemirror_mode": {
    "name": "ipython",
    "version": 3
   },
   "file_extension": ".py",
   "mimetype": "text/x-python",
   "name": "python",
   "nbconvert_exporter": "python",
   "pygments_lexer": "ipython3",
   "version": "3.10.9"
  }
 },
 "nbformat": 4,
 "nbformat_minor": 2
}
