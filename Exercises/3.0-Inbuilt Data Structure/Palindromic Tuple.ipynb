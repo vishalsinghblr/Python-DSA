{
 "cells": [
  {
   "cell_type": "markdown",
   "metadata": {},
   "source": [
    "#### Palindromic \n",
    "\n",
    "Check if Tuple is Palindromic\n",
    "\n",
    "Design a Python function named is_palindromic_tuple to check if a tuple is palindromic, meaning it reads the same forwards and backwards.\n",
    "\n",
    "Parameters:\n",
    "\n",
    "    tup (tuple): The input tuple that you need to check for palindromic property.\n",
    "\n",
    "    Returns:\n",
    "\n",
    "    True if the tuple is palindromic, False otherwise.\n",
    "\n",
    "Example:\n",
    "\n",
    "    Input: (1, 2, 3, 2, 1)\n",
    "    Output: True\n",
    "\n",
    "    Input: ('a', 'b', 'c', 'b', 'a')\n",
    "    Output: True\n",
    "\n",
    "    Input: (1, 2, 3, 4, 5)\n",
    "    Output: False\n",
    "\n",
    "    Input: ('x', 'y', 'z', 'x')\n",
    "    Output: False\n",
    "\n",
    "    Input: ('a',)\n",
    "    Output: True"
   ]
  },
  {
   "cell_type": "code",
   "execution_count": 1,
   "metadata": {},
   "outputs": [],
   "source": [
    "def is_palindromic_tuple(tup):\n",
    "    # Initialize pointers for the start and end of the tuple\n",
    "    start = 0\n",
    "    end = len(tup) - 1\n",
    "    \n",
    "    # Loop until the start pointer is less than or equal to the end pointer\n",
    "    while start <= end:\n",
    "        # If elements at start and end pointers are not equal, it's not a palindrome\n",
    "        if tup[start] != tup[end]:\n",
    "            \n",
    "            return False\n",
    "        # Move the pointers towards the center\n",
    "        start += 1\n",
    "        end -= 1\n",
    "    \n",
    "    # If all elements matched, it is a palindrome\n",
    "    return True"
   ]
  },
  {
   "cell_type": "code",
   "execution_count": 2,
   "metadata": {},
   "outputs": [
    {
     "data": {
      "text/plain": [
       "False"
      ]
     },
     "execution_count": 2,
     "metadata": {},
     "output_type": "execute_result"
    }
   ],
   "source": [
    "is_palindromic_tuple((1,2,3,4,5,2,1))"
   ]
  },
  {
   "cell_type": "code",
   "execution_count": 3,
   "metadata": {},
   "outputs": [
    {
     "data": {
      "text/plain": [
       "True"
      ]
     },
     "execution_count": 3,
     "metadata": {},
     "output_type": "execute_result"
    }
   ],
   "source": [
    "is_palindromic_tuple((1,2,3,3,2,1))"
   ]
  },
  {
   "cell_type": "markdown",
   "metadata": {},
   "source": []
  }
 ],
 "metadata": {
  "kernelspec": {
   "display_name": "myenv",
   "language": "python",
   "name": "python3"
  },
  "language_info": {
   "codemirror_mode": {
    "name": "ipython",
    "version": 3
   },
   "file_extension": ".py",
   "mimetype": "text/x-python",
   "name": "python",
   "nbconvert_exporter": "python",
   "pygments_lexer": "ipython3",
   "version": "3.10.9"
  }
 },
 "nbformat": 4,
 "nbformat_minor": 2
}
