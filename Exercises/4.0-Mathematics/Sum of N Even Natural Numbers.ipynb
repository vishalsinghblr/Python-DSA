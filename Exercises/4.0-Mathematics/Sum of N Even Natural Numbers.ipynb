{
 "cells": [
  {
   "cell_type": "markdown",
   "metadata": {},
   "source": [
    "#### Sum of N Even Natural Numbers\n",
    "Problem Description:\n",
    "\n",
    "You are given an integer n. Your task is to calculate and return the sum of the first n even natural numbers. The even natural numbers are: 2, 4, 6, 8, ...\n",
    "\n",
    "Input:\n",
    "\n",
    "    A single integer n where 1 <= n <= 10^4.\n",
    "\n",
    "Output:\n",
    "\n",
    "    Return the sum of the first n even natural numbers.\n",
    "\n",
    "Example:\n",
    "\n",
    "    Input: n = 3\n",
    "    Output: 12  # (2 + 4 + 6)\n",
    "    \n",
    "    Input: n = 5\n",
    "    Output: 30  # (2 + 4 + 6 + 8 + 10)"
   ]
  },
  {
   "cell_type": "code",
   "execution_count": 1,
   "metadata": {},
   "outputs": [],
   "source": [
    "\n",
    "def sum_of_even_numbers(n):\n",
    "    \"\"\"\n",
    "    Function to return the sum of the first n even natural numbers without using built-in functions.\n",
    "    \n",
    "    Parameters:\n",
    "    n (int): The number of even numbers to sum.\n",
    "    \n",
    "    Returns:\n",
    "    int: The sum of the first n even natural numbers.\n",
    "    \"\"\"\n",
    "    total_sum = 0\n",
    "    current_even_number = 2\n",
    "    \n",
    "    # Loop through the first n even numbers and add them to total_sum\n",
    "    for i in range(n):\n",
    "        total_sum += current_even_number\n",
    "        current_even_number += 2  # Increment by 2 to get the next even number\n",
    "    \n",
    "    return total_sum"
   ]
  },
  {
   "cell_type": "code",
   "execution_count": 3,
   "metadata": {},
   "outputs": [
    {
     "data": {
      "text/plain": [
       "56"
      ]
     },
     "execution_count": 3,
     "metadata": {},
     "output_type": "execute_result"
    }
   ],
   "source": [
    "sum_of_even_numbers(7)"
   ]
  },
  {
   "cell_type": "code",
   "execution_count": null,
   "metadata": {},
   "outputs": [],
   "source": []
  }
 ],
 "metadata": {
  "kernelspec": {
   "display_name": "myenv",
   "language": "python",
   "name": "python3"
  },
  "language_info": {
   "codemirror_mode": {
    "name": "ipython",
    "version": 3
   },
   "file_extension": ".py",
   "mimetype": "text/x-python",
   "name": "python",
   "nbconvert_exporter": "python",
   "pygments_lexer": "ipython3",
   "version": "3.10.9"
  }
 },
 "nbformat": 4,
 "nbformat_minor": 2
}
