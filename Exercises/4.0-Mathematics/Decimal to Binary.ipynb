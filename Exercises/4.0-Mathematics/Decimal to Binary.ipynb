{
 "cells": [
  {
   "cell_type": "markdown",
   "metadata": {},
   "source": [
    "#### Decimal to Binary\n",
    "Problem Description:\n",
    "\n",
    "You are given an integer n. Your task is to return its binary representation as a string. Do not use any built-in functions for conversion.\n",
    "\n",
    "Input:\n",
    "\n",
    "    A single integer n, where -10^9 <= n <= 10^9.\n",
    "\n",
    "Output:\n",
    "\n",
    "    A string representing the binary representation of n.\n",
    "\n",
    "Example:\n",
    "\n",
    "    Input: n = 5\n",
    "    Output: \"101\"\n",
    "    \n",
    "    Input: n = -5\n",
    "    Output: \"-101\"\n"
   ]
  },
  {
   "cell_type": "code",
   "execution_count": 1,
   "metadata": {},
   "outputs": [],
   "source": [
    "def int_to_binary(n):\n",
    "    \"\"\"\n",
    "    Function to convert an integer to its binary representation without using built-in functions.\n",
    "    \n",
    "    Parameters:\n",
    "    n (int): The integer to convert.\n",
    "    \n",
    "    Returns:\n",
    "    str: The binary representation of the integer.\n",
    "    \"\"\"\n",
    "    if n == 0:\n",
    "        return \"0\"  # Special case for zero\n",
    " \n",
    "    # Store the binary representation\n",
    "    binary_representation = \"\"\n",
    "    \n",
    "    # Handle negative numbers\n",
    "    is_negative = n < 0\n",
    "    if is_negative:\n",
    "        n = -n  # Work with the absolute value\n",
    " \n",
    "    # Convert to binary\n",
    "    while n > 0:\n",
    "        remainder = n % 2\n",
    "        binary_representation = str(remainder) + binary_representation  # Prepend the remainder\n",
    "        n = n // 2  # Update n to be n divided by 2 (floor division)\n",
    " \n",
    "    # Add the negative sign for negative numbers\n",
    "    if is_negative:\n",
    "        binary_representation = \"-\" + binary_representation\n",
    " \n",
    "    return binary_representation"
   ]
  },
  {
   "cell_type": "code",
   "execution_count": 2,
   "metadata": {},
   "outputs": [
    {
     "data": {
      "text/plain": [
       "'1010'"
      ]
     },
     "execution_count": 2,
     "metadata": {},
     "output_type": "execute_result"
    }
   ],
   "source": [
    "int_to_binary(10)"
   ]
  }
 ],
 "metadata": {
  "kernelspec": {
   "display_name": "myenv",
   "language": "python",
   "name": "python3"
  },
  "language_info": {
   "codemirror_mode": {
    "name": "ipython",
    "version": 3
   },
   "file_extension": ".py",
   "mimetype": "text/x-python",
   "name": "python",
   "nbconvert_exporter": "python",
   "pygments_lexer": "ipython3",
   "version": "3.10.9"
  }
 },
 "nbformat": 4,
 "nbformat_minor": 2
}
