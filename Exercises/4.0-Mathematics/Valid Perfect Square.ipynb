{
 "cells": [
  {
   "cell_type": "markdown",
   "metadata": {},
   "source": [
    "#### Valid Perfect Square\n",
    "Problem Description:\n",
    "\n",
    "You are given a positive integer num. Your task is to check whether num is a perfect square or not. A perfect square is an integer that is the square of an integer (e.g., 1, 4, 9, 16, ...). Return True if num is a perfect square, and False otherwise.\n",
    "\n",
    "Input:\n",
    "\n",
    "    A single positive integer num where 1 <= num <= 10^9.\n",
    "\n",
    "Output:\n",
    "\n",
    "    Return True if num is a perfect square, otherwise return False.\n",
    "\n",
    "Example:\n",
    "\n",
    "    Input: num = 16\n",
    "    Output: True\n",
    "    \n",
    "    Input: num = 14\n",
    "    Output: False"
   ]
  },
  {
   "cell_type": "code",
   "execution_count": 1,
   "metadata": {},
   "outputs": [],
   "source": [
    "def is_perfect_square(num):\n",
    "    \"\"\"\n",
    "    Function to check if a number is a perfect square without using built-in functions.\n",
    "    \n",
    "    Parameters:\n",
    "    num (int): The number to check.\n",
    "    \n",
    "    Returns:\n",
    "    bool: True if num is a perfect square, False if num is not.\n",
    "    \"\"\"\n",
    "    if num < 1:\n",
    "        return False  # No perfect squares for numbers less than 1\n",
    "    \n",
    "    # Initialize a variable to keep track of the current number to check\n",
    "    i = 1\n",
    "    \n",
    "    # Loop until i squared is greater than or equal to num\n",
    "    while i * i <= num:\n",
    "        if i * i == num:\n",
    "            return True  # Found a perfect square\n",
    "        i += 1  # Increment i to check the next integer\n",
    "    \n",
    "    return False  # No perfect square found"
   ]
  },
  {
   "cell_type": "code",
   "execution_count": 2,
   "metadata": {},
   "outputs": [
    {
     "data": {
      "text/plain": [
       "True"
      ]
     },
     "execution_count": 2,
     "metadata": {},
     "output_type": "execute_result"
    }
   ],
   "source": [
    "is_perfect_square(16)"
   ]
  },
  {
   "cell_type": "code",
   "execution_count": 3,
   "metadata": {},
   "outputs": [
    {
     "data": {
      "text/plain": [
       "False"
      ]
     },
     "execution_count": 3,
     "metadata": {},
     "output_type": "execute_result"
    }
   ],
   "source": [
    "is_perfect_square(15)"
   ]
  }
 ],
 "metadata": {
  "kernelspec": {
   "display_name": "myenv",
   "language": "python",
   "name": "python3"
  },
  "language_info": {
   "codemirror_mode": {
    "name": "ipython",
    "version": 3
   },
   "file_extension": ".py",
   "mimetype": "text/x-python",
   "name": "python",
   "nbconvert_exporter": "python",
   "pygments_lexer": "ipython3",
   "version": "3.10.9"
  }
 },
 "nbformat": 4,
 "nbformat_minor": 2
}
