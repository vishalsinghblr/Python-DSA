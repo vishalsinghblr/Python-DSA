{
 "cells": [
  {
   "cell_type": "markdown",
   "metadata": {},
   "source": [
    "#### Check for Even Number\n",
    "Problem Description:\n",
    "\n",
    "You are given an integer n. Your task is to check whether the number is even or not. Return True if the number is even, and False otherwise.\n",
    "\n",
    "Input:\n",
    "\n",
    "    A single integer n where -10^9 <= n <= 10^9.\n",
    "\n",
    "Output:\n",
    "\n",
    "    Return True if n is an even number, otherwise return False.\n",
    "\n",
    "Example:\n",
    "\n",
    "    Input: n = 4\n",
    "    Output: True\n",
    "    \n",
    "    Input: n = 7\n",
    "    Output: False"
   ]
  },
  {
   "cell_type": "code",
   "execution_count": null,
   "metadata": {},
   "outputs": [],
   "source": [
    "def is_even(n):\n",
    "    \"\"\"\n",
    "    Function to check if a number is even without using built-in functions.\n",
    "    \n",
    "    Parameters:\n",
    "    n (int): The number to check.\n",
    "    \n",
    "    Returns:\n",
    "    bool: True if n is even, False if n is odd.\n",
    "    \"\"\"\n",
    "    # A number is even if dividing it by 2 leaves no remainder\n",
    "    if n % 2 == 0:\n",
    "        return True\n",
    "    else:\n",
    "        return False"
   ]
  },
  {
   "cell_type": "code",
   "execution_count": 2,
   "metadata": {},
   "outputs": [
    {
     "data": {
      "text/plain": [
       "False"
      ]
     },
     "execution_count": 2,
     "metadata": {},
     "output_type": "execute_result"
    }
   ],
   "source": [
    "is_even(5)"
   ]
  }
 ],
 "metadata": {
  "kernelspec": {
   "display_name": "myenv",
   "language": "python",
   "name": "python3"
  },
  "language_info": {
   "codemirror_mode": {
    "name": "ipython",
    "version": 3
   },
   "file_extension": ".py",
   "mimetype": "text/x-python",
   "name": "python",
   "nbconvert_exporter": "python",
   "pygments_lexer": "ipython3",
   "version": "3.10.9"
  }
 },
 "nbformat": 4,
 "nbformat_minor": 2
}
