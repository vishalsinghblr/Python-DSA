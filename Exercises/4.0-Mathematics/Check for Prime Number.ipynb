{
 "cells": [
  {
   "cell_type": "markdown",
   "metadata": {},
   "source": [
    "#### Check for Prime Number\n",
    "\n",
    "Problem Description:\n",
    "\n",
    "You are given an integer n. Your task is to check whether the number is prime or not. A prime number is a number greater than 1 that has no divisors other than 1 and itself. Return True if the number is prime, and False otherwise.\n",
    "\n",
    "Input:\n",
    "\n",
    "    A single integer n where 1 <= n <= 10^6.\n",
    "\n",
    "Output:\n",
    "\n",
    "    Return True if n is a prime number, otherwise return False.\n",
    "\n",
    "Example:\n",
    "\n",
    "    Input: n = 5\n",
    "    Output: True\n",
    "    \n",
    "    Input: n = 4\n",
    "    Output: False\n"
   ]
  },
  {
   "cell_type": "code",
   "execution_count": 1,
   "metadata": {},
   "outputs": [],
   "source": [
    "def is_prime(n):\n",
    "    \"\"\"\n",
    "    Function to check if a number is prime without using built-in functions.\n",
    "    \n",
    "    Parameters:\n",
    "    n (int): The number to check.\n",
    "    \n",
    "    Returns:\n",
    "    bool: True if n is prime, False if n is not.\n",
    "    \"\"\"\n",
    "    # Handle special cases\n",
    "    if n <= 1:\n",
    "        return False\n",
    "    if n == 2:  # 2 is a prime number\n",
    "        return True\n",
    "    if n % 2 == 0:  # Any even number greater than 2 is not prime\n",
    "        return False\n",
    "    \n",
    "    # Check divisibility for odd numbers from 3 up to sqrt(n)\n",
    "    i = 3\n",
    "    while i * i <= n:\n",
    "        if n % i == 0:\n",
    "            return False\n",
    "        i += 2  # Skip even numbers\n",
    "    \n",
    "    return True"
   ]
  },
  {
   "cell_type": "code",
   "execution_count": 2,
   "metadata": {},
   "outputs": [
    {
     "data": {
      "text/plain": [
       "False"
      ]
     },
     "execution_count": 2,
     "metadata": {},
     "output_type": "execute_result"
    }
   ],
   "source": [
    "is_prime(10)"
   ]
  }
 ],
 "metadata": {
  "kernelspec": {
   "display_name": "myenv",
   "language": "python",
   "name": "python3"
  },
  "language_info": {
   "codemirror_mode": {
    "name": "ipython",
    "version": 3
   },
   "file_extension": ".py",
   "mimetype": "text/x-python",
   "name": "python",
   "nbconvert_exporter": "python",
   "pygments_lexer": "ipython3",
   "version": "3.10.9"
  }
 },
 "nbformat": 4,
 "nbformat_minor": 2
}
